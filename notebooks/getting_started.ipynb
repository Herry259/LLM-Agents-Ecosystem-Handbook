{
  "cells": [
    {
      "cell_type": "markdown",
      "metadata": {},
      "source": [
        "# Getting Started with LLM Apps\n",
        "\n",
        "This notebook offers a gentle introduction to the curated LLM apps repository.  You'll learn how to load a sample dataset and perform a basic analysis, which can be extended with the agents provided in the `examples` folder."
      ]
    },
    {
      "cell_type": "code",
      "execution_count": null,
      "metadata": {},
      "outputs": [],
      "source": [
        "# Let's load the sample products dataset and display summary statistics\n",
        "import pandas as pd\n",
        "\n",
        "df = pd.read_csv('../datasets/sample_products.csv')\n",
        "df\n"
      ]
    }
  ],
  "metadata": {
    "kernelspec": {
      "display_name": "Python 3",
      "language": "python",
      "name": "python3"
    },
    "language_info": {
      "file_extension": ".py",
      "mimetype": "text/x-python",
      "name": "python",
      "pygments_lexer": "ipython3",
      "version": "3.9"
    }
  },
  "nbformat": 4,
  "nbformat_minor": 5
}